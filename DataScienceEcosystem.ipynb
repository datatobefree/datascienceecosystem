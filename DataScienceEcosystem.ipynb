{
 "cells": [
  {
   "cell_type": "markdown",
   "id": "3fedca5e-5acb-4983-a881-ad12c28c53dd",
   "metadata": {},
   "source": [
    "# Data Science Tools and Ecosystem"
   ]
  },
  {
   "cell_type": "markdown",
   "id": "47d8cf99-0399-40ad-b05e-d6ee3da01adc",
   "metadata": {},
   "source": [
    "In this notebook, Data Science Tools and Ecosystem are summarized."
   ]
  },
  {
   "cell_type": "code",
   "execution_count": 3,
   "id": "920a970a-b66d-45db-b251-2a638362c2e7",
   "metadata": {},
   "outputs": [
    {
     "ename": "SyntaxError",
     "evalue": "invalid syntax (1511261495.py, line 1)",
     "output_type": "error",
     "traceback": [
      "\u001b[0;36m  Cell \u001b[0;32mIn[3], line 1\u001b[0;36m\u001b[0m\n\u001b[0;31m    **Objectives**\u001b[0m\n\u001b[0m    ^\u001b[0m\n\u001b[0;31mSyntaxError\u001b[0m\u001b[0;31m:\u001b[0m invalid syntax\n"
     ]
    }
   ],
   "source": [
    "**Objectives**\n",
    "- List popular languages for Data Science\n",
    "- List popluar libraries for Data Science\n",
    "- List tools used in Data Science\n",
    "- Evaluate arithmetic expressions\n",
    "              "
   ]
  },
  {
   "cell_type": "code",
   "execution_count": 4,
   "id": "ad98f542-1392-4d6a-b441-8736c639797d",
   "metadata": {},
   "outputs": [
    {
     "ename": "SyntaxError",
     "evalue": "invalid syntax (70565551.py, line 1)",
     "output_type": "error",
     "traceback": [
      "\u001b[0;36m  Cell \u001b[0;32mIn[4], line 1\u001b[0;36m\u001b[0m\n\u001b[0;31m    Some of the popular languages that Data Scientists use are:\u001b[0m\n\u001b[0m         ^\u001b[0m\n\u001b[0;31mSyntaxError\u001b[0m\u001b[0;31m:\u001b[0m invalid syntax\n"
     ]
    }
   ],
   "source": [
    "Some of the popular languages that Data Scientists use are:\n",
    "1. Python\n",
    "2. Java\n",
    "3. C++"
   ]
  },
  {
   "cell_type": "markdown",
   "id": "331ebbac-09c4-4b7b-a33d-d25b2a678bcf",
   "metadata": {},
   "source": [
    "Some of the commonly used libraries used by Data Scientists include:\n",
    "1. TensorFlow\n",
    "2. Pandas\n",
    "3. NumPy"
   ]
  },
  {
   "cell_type": "markdown",
   "id": "b5afa95f-9c17-4cfb-9e01-1e6a06eead48",
   "metadata": {},
   "source": [
    "| Data Science Tools |\n",
    "| Hadoop |\n",
    "| PyTorch |\n",
    "| TensorFlow |\n",
    "\n"
   ]
  },
  {
   "cell_type": "code",
   "execution_count": null,
   "id": "72e398e5-3fdb-46d9-863f-557f8540a0f3",
   "metadata": {},
   "outputs": [],
   "source": [
    "### Below are a few examples of evaluating arithmetic expressions in Python:\n",
    "+ addition\n",
    "- subtraction\n",
    "* multiplication\n",
    "/ division\n"
   ]
  },
  {
   "cell_type": "code",
   "execution_count": null,
   "id": "ce57fae2-3da5-4d24-ab24-d4380fc6f956",
   "metadata": {},
   "outputs": [],
   "source": [
    "(3*4)+5"
   ]
  },
  {
   "cell_type": "code",
   "execution_count": 5,
   "id": "94621c5c-f823-4ba3-95d3-7f8c1c4bcf5b",
   "metadata": {},
   "outputs": [
    {
     "ename": "SyntaxError",
     "evalue": "invalid syntax (3137647411.py, line 1)",
     "output_type": "error",
     "traceback": [
      "\u001b[0;36m  Cell \u001b[0;32mIn[5], line 1\u001b[0;36m\u001b[0m\n\u001b[0;31m    This will convert 200 minutes to hours by dividing by 60.\u001b[0m\n\u001b[0m         ^\u001b[0m\n\u001b[0;31mSyntaxError\u001b[0m\u001b[0;31m:\u001b[0m invalid syntax\n"
     ]
    }
   ],
   "source": [
    "This will convert 200 minutes to hours by dividing by 60."
   ]
  },
  {
   "cell_type": "code",
   "execution_count": null,
   "id": "128e6438-d4df-4f42-bc1d-4fb940e8fb35",
   "metadata": {},
   "outputs": [],
   "source": [
    "200/60"
   ]
  },
  {
   "cell_type": "code",
   "execution_count": null,
   "id": "aabce958-6a2e-4ad4-9910-0fe0c50928cf",
   "metadata": {},
   "outputs": [],
   "source": [
    "3.33 hours"
   ]
  },
  {
   "cell_type": "code",
   "execution_count": null,
   "id": "ddaf3865-68e9-4533-ba2f-d078a6d4e000",
   "metadata": {},
   "outputs": [],
   "source": [
    "## Author\n",
    "Jeffery Ruggieri"
   ]
  },
  {
   "cell_type": "code",
   "execution_count": null,
   "id": "8e2c1378-5b29-49ea-8dd9-785cf7ba77f6",
   "metadata": {},
   "outputs": [],
   "source": []
  }
 ],
 "metadata": {
  "kernelspec": {
   "display_name": "Python 3 (ipykernel)",
   "language": "python",
   "name": "python3"
  },
  "language_info": {
   "codemirror_mode": {
    "name": "ipython",
    "version": 3
   },
   "file_extension": ".py",
   "mimetype": "text/x-python",
   "name": "python",
   "nbconvert_exporter": "python",
   "pygments_lexer": "ipython3",
   "version": "3.11.9"
  }
 },
 "nbformat": 4,
 "nbformat_minor": 5
}
